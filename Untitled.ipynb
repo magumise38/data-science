{
 "cells": [
  {
   "cell_type": "code",
   "execution_count": 1,
   "id": "5d686e3a-6b4e-4486-b1f2-a701180165ae",
   "metadata": {},
   "outputs": [
    {
     "name": "stdout",
     "output_type": "stream",
     "text": [
      "hello data science\n"
     ]
    }
   ],
   "source": [
    "print (\"hello data science\")"
   ]
  },
  {
   "cell_type": "code",
   "execution_count": 4,
   "id": "60f04b35-17ac-4e40-beef-6d7defbf0697",
   "metadata": {},
   "outputs": [
    {
     "name": "stdout",
     "output_type": "stream",
     "text": [
      "Charleen Mutanda\n"
     ]
    }
   ],
   "source": [
    "print(\"Charleen Mutanda\")"
   ]
  },
  {
   "cell_type": "code",
   "execution_count": 2,
   "id": "0224234c-2c01-490c-97b7-6ad9cd7b2fcd",
   "metadata": {
    "scrolled": true
   },
   "outputs": [
    {
     "data": {
      "text/plain": [
       "50"
      ]
     },
     "execution_count": 2,
     "metadata": {},
     "output_type": "execute_result"
    }
   ],
   "source": [
    "24+26"
   ]
  },
  {
   "cell_type": "markdown",
   "id": "7aa5f7f1-9d5e-4326-b472-1868381e99d6",
   "metadata": {},
   "source": [
    "python is a progamming language which is sensitive\n",
    "\n",
    "python is also interpreted language"
   ]
  },
  {
   "cell_type": "markdown",
   "id": "309eefd8-9aa0-4b25-8b28-aeff4605b1d9",
   "metadata": {},
   "source": [
    "shortcuts\n",
    "\n",
    "to add cell below curent cell - esc+a\n",
    "to add cell above curent cell - esc+A\n",
    "to execute the code - shift+"
   ]
  },
  {
   "cell_type": "code",
   "execution_count": 3,
   "id": "409d54de-1704-42f9-9be4-b93d05e36156",
   "metadata": {
    "scrolled": true
   },
   "outputs": [
    {
     "data": {
      "text/plain": [
       "5.0"
      ]
     },
     "execution_count": 3,
     "metadata": {},
     "output_type": "execute_result"
    }
   ],
   "source": [
    "25/5"
   ]
  }
 ],
 "metadata": {
  "kernelspec": {
   "display_name": "Python 3 (ipykernel)",
   "language": "python",
   "name": "python3"
  },
  "language_info": {
   "codemirror_mode": {
    "name": "ipython",
    "version": 3
   },
   "file_extension": ".py",
   "mimetype": "text/x-python",
   "name": "python",
   "nbconvert_exporter": "python",
   "pygments_lexer": "ipython3",
   "version": "3.11.7"
  }
 },
 "nbformat": 4,
 "nbformat_minor": 5
}
